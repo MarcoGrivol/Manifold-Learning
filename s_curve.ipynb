{
 "cells": [
  {
   "cell_type": "code",
   "execution_count": 1,
   "metadata": {},
   "outputs": [],
   "source": [
    "%matplotlib widget\n",
    "from sklearn import datasets, manifold, mixture, metrics\n",
    "import matplotlib.pyplot as plt\n",
    "import matplotlib as mpl\n",
    "from mpl_toolkits.mplot3d import Axes3D\n",
    "import numpy as np\n",
    "from scipy.spatial.distance import pdist, squareform\n",
    "from scipy import stats, linalg\n",
    "import itertools"
   ]
  },
  {
   "cell_type": "code",
   "execution_count": 2,
   "metadata": {},
   "outputs": [],
   "source": [
    "n_samples = 500\n",
    "x, y = datasets.make_s_curve( n_samples=n_samples )\n",
    "\n",
    "idx = y.argsort()\n",
    "y.sort()\n",
    "x = x[idx]\n",
    "\n",
    "y = []\n",
    "for i in range( n_samples ):\n",
    "    if i < n_samples / 2:\n",
    "        y.append( 'purple' )\n",
    "    else:\n",
    "        y.append( 'blue' )"
   ]
  },
  {
   "cell_type": "code",
   "execution_count": 3,
   "metadata": {},
   "outputs": [],
   "source": [
    "x = np.concatenate( (x[:300], x[300:]) )\n",
    "y = np.concatenate( (y[:300], y[300:]) )"
   ]
  },
  {
   "cell_type": "code",
   "execution_count": 4,
   "metadata": {},
   "outputs": [
    {
     "data": {
      "application/vnd.jupyter.widget-view+json": {
       "model_id": "b5ef4934913746198dec7bfbb1d49636",
       "version_major": 2,
       "version_minor": 0
      },
      "text/plain": [
       "Canvas(toolbar=Toolbar(toolitems=[('Home', 'Reset original view', 'home', 'home'), ('Back', 'Back to previous …"
      ]
     },
     "metadata": {},
     "output_type": "display_data"
    }
   ],
   "source": [
    "fig1 = plt.figure()\n",
    "ax = fig1.add_subplot( 111, projection='3d' )\n",
    "\n",
    "x_vals = x[:, 0]\n",
    "z_vals = x[:, 1]\n",
    "y_vals = x[:, 2]\n",
    "\n",
    "ax.scatter( x_vals, y_vals, z_vals, c=y )\n",
    "plt.show()"
   ]
  },
  {
   "cell_type": "code",
   "execution_count": 5,
   "metadata": {},
   "outputs": [],
   "source": [
    "def fit_plot( x, y, n_neighbors, n_components ):\n",
    "    isomap = manifold.Isomap( n_neighbors=n_neighbors, n_components=n_components )\n",
    "    y_isomap = isomap.fit_transform( x )\n",
    "    \n",
    "    lle = manifold.LocallyLinearEmbedding( n_neighbors=n_neighbors, n_components=n_components )\n",
    "    y_lle = lle.fit_transform( x )\n",
    "    \n",
    "    laplace = manifold.SpectralEmbedding( n_neighbors=n_neighbors, n_components=n_components )\n",
    "    y_laplace = laplace.fit_transform( x )\n",
    "    \n",
    "    ltsa = manifold.LocallyLinearEmbedding( n_neighbors=n_neighbors, n_components=n_components, method='ltsa' )\n",
    "    y_ltsa = ltsa.fit_transform( x )\n",
    "    \n",
    "    fig = plt.figure()\n",
    "    gs = fig.add_gridspec( 2, 2 )\n",
    "    ax1 = fig.add_subplot( gs[0, 0] )\n",
    "    ax2 = fig.add_subplot( gs[0, 1] )\n",
    "    ax3 = fig.add_subplot( gs[1, 0] )\n",
    "    ax4 = fig.add_subplot( gs[1, 1] )\n",
    "    \n",
    "    ax1.set_title( 'isomap' )\n",
    "    ax2.set_title( 'lle' )\n",
    "    ax3.set_title( 'laplace' )\n",
    "    ax4.set_title( 'ltsa' )\n",
    "    \n",
    "    x1_vals = y_isomap[:, 0]\n",
    "    y1_vals = y_isomap[:, 1]\n",
    "    ax1.scatter( x1_vals, y1_vals, c=y )\n",
    "    ax1.set_xticklabels( [] )\n",
    "    ax1.set_yticklabels( [] )\n",
    "    \n",
    "    x2_vals = y_lle[:, 0]\n",
    "    y2_vals = y_lle[:, 1] \n",
    "    ax2.scatter( x2_vals, y2_vals, c=y )\n",
    "    ax2.set_xticklabels( [] )\n",
    "    ax2.set_yticklabels( [] )\n",
    "    \n",
    "    x3_vals = y_laplace[:, 0]\n",
    "    y3_vals = y_laplace[:, 1]\n",
    "    ax3.scatter( x3_vals, y3_vals, c=y )\n",
    "    ax3.set_xticklabels( [] )\n",
    "    ax3.set_yticklabels( [] )\n",
    "    \n",
    "    x4_vals = y_ltsa[:, 0]\n",
    "    y4_vals = y_ltsa[:, 1]\n",
    "    ax4.scatter( x4_vals, y4_vals, c=y )\n",
    "    ax4.set_xticklabels( [] )\n",
    "    ax4.set_yticklabels( [] )\n",
    "\n",
    "    plt.show()\n",
    "    return (y_isomap, y_lle, y_laplace, y_ltsa)\n",
    "    \n",
    "def residual_variance( dx, dy ):\n",
    "    corr = stats.spearmanr( dx, dy, axis=1 ).correlation\n",
    "    return corr"
   ]
  },
  {
   "cell_type": "code",
   "execution_count": 6,
   "metadata": {},
   "outputs": [
    {
     "data": {
      "application/vnd.jupyter.widget-view+json": {
       "model_id": "eb69bd6ae0544a36a54c6fdd579125d3",
       "version_major": 2,
       "version_minor": 0
      },
      "text/plain": [
       "Canvas(toolbar=Toolbar(toolitems=[('Home', 'Reset original view', 'home', 'home'), ('Back', 'Back to previous …"
      ]
     },
     "metadata": {},
     "output_type": "display_data"
    }
   ],
   "source": [
    "y_isomap, y_lle, y_laplace, y_ltsa = fit_plot( x, y, n_neighbors=10, n_components=2 )"
   ]
  },
  {
   "cell_type": "code",
   "execution_count": 7,
   "metadata": {},
   "outputs": [],
   "source": [
    "color_iter = itertools.cycle(['purple', 'blue'])\n",
    "\n",
    "def plot_results(X, Y_, means, covariances, index, title):\n",
    "    fig = plt.figure()\n",
    "    splot = fig.add_subplot()\n",
    "    for i, (mean, covar, color) in enumerate(zip(\n",
    "            means, covariances, color_iter)):\n",
    "        v, w = linalg.eigh(covar)\n",
    "        v = 2. * np.sqrt(2.) * np.sqrt(v)\n",
    "        u = w[0] / linalg.norm(w[0])\n",
    "        # as the DP will not use every component it has access to\n",
    "        # unless it needs it, we shouldn't plot the redundant\n",
    "        # components.\n",
    "        if not np.any(Y_ == i):\n",
    "            continue\n",
    "        plt.scatter(X[Y_ == i, 0], X[Y_ == i, 1], .8, color=color)\n",
    "\n",
    "        # Plot an ellipse to show the Gaussian component\n",
    "        angle = np.arctan(u[1] / u[0])\n",
    "        angle = 180. * angle / np.pi  # convert to degrees\n",
    "        ell = mpl.patches.Ellipse(mean, v[0], v[1], 180. + angle, color=color)\n",
    "        ell.set_clip_box(splot.bbox)\n",
    "        ell.set_alpha(0.5)\n",
    "        splot.add_artist(ell)\n",
    "    plt.xticks(())\n",
    "    plt.yticks(())\n",
    "    plt.title(title)"
   ]
  },
  {
   "cell_type": "code",
   "execution_count": 8,
   "metadata": {},
   "outputs": [
    {
     "data": {
      "application/vnd.jupyter.widget-view+json": {
       "model_id": "dc38598368394dfbb2a961bfe54fcbc4",
       "version_major": 2,
       "version_minor": 0
      },
      "text/plain": [
       "Canvas(toolbar=Toolbar(toolitems=[('Home', 'Reset original view', 'home', 'home'), ('Back', 'Back to previous …"
      ]
     },
     "metadata": {},
     "output_type": "display_data"
    }
   ],
   "source": [
    "gmm = mixture.GaussianMixture( n_components=2, covariance_type='full' )\n",
    "\n",
    "gmm.fit( y_isomap )\n",
    "plot_results( y_isomap, gmm.predict( y_isomap ), gmm.means_, gmm.covariances_, 0, 'Isomap' )\n",
    "\n",
    "# gmm.fit( y_lle )\n",
    "# plot_results( y_lle, gmm.predict( y_lle ), gmm.means_, gmm.covariances_, 0, 'LLE' )\n",
    "\n",
    "# gmm.fit( y_laplace )\n",
    "# plot_results( y_laplace, gmm.predict( y_laplace ), gmm.means_, gmm.covariances_, 0, 'Laplace' )\n",
    "\n",
    "# gmm.fit( y_ltsa )\n",
    "# plot_results( y_ltsa, gmm.predict( y_ltsa ), gmm.means_, gmm.covariances_, 0, 'LTSA' )"
   ]
  },
  {
   "cell_type": "code",
   "execution_count": 9,
   "metadata": {},
   "outputs": [
    {
     "data": {
      "text/plain": [
       "0.9214428226736621"
      ]
     },
     "execution_count": 9,
     "metadata": {},
     "output_type": "execute_result"
    }
   ],
   "source": [
    "true_labels = []\n",
    "for c in y:\n",
    "    if c == 'purple':\n",
    "        true_labels.append( 0 )\n",
    "    else:\n",
    "        true_labels.append( 1 )\n",
    "\n",
    "true_labels.reverse()\n",
    "metrics.adjusted_rand_score( true_labels, gmm.predict( y_isomap ) )"
   ]
  }
 ],
 "metadata": {
  "kernelspec": {
   "display_name": "Python 3",
   "language": "python",
   "name": "python3"
  },
  "language_info": {
   "codemirror_mode": {
    "name": "ipython",
    "version": 3
   },
   "file_extension": ".py",
   "mimetype": "text/x-python",
   "name": "python",
   "nbconvert_exporter": "python",
   "pygments_lexer": "ipython3",
   "version": "3.8.5"
  }
 },
 "nbformat": 4,
 "nbformat_minor": 4
}
