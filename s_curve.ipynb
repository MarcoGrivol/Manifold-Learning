{
 "cells": [
  {
   "cell_type": "code",
   "execution_count": 1,
   "metadata": {},
   "outputs": [],
   "source": [
    "%matplotlib widget\n",
    "from sklearn import datasets, manifold\n",
    "import matplotlib.pyplot as plt\n",
    "from mpl_toolkits.mplot3d import Axes3D\n",
    "import numpy as np\n",
    "from scipy.spatial.distance import pdist, squareform\n",
    "from scipy import stats"
   ]
  },
  {
   "cell_type": "code",
   "execution_count": 2,
   "metadata": {},
   "outputs": [],
   "source": [
    "n_samples = 500\n",
    "x, y = datasets.make_s_curve( n_samples=n_samples )\n",
    "\n",
    "idx = y.argsort()\n",
    "y.sort()\n",
    "x = x[idx]"
   ]
  },
  {
   "cell_type": "raw",
   "metadata": {},
   "source": [
    "np.savetxt('data_scurve.txt', x)\n",
    "np.savetxt('label_scurve.txt', y)"
   ]
  },
  {
   "cell_type": "code",
   "execution_count": 3,
   "metadata": {},
   "outputs": [],
   "source": [
    "x = np.concatenate( (x[:300], x[300:]) )\n",
    "y = np.concatenate( (y[:300], y[300:]) )"
   ]
  },
  {
   "cell_type": "code",
   "execution_count": 4,
   "metadata": {},
   "outputs": [
    {
     "data": {
      "application/vnd.jupyter.widget-view+json": {
       "model_id": "b0b135f5c7c64c1086c5df074ad888ad",
       "version_major": 2,
       "version_minor": 0
      },
      "text/plain": [
       "Canvas(toolbar=Toolbar(toolitems=[('Home', 'Reset original view', 'home', 'home'), ('Back', 'Back to previous …"
      ]
     },
     "metadata": {},
     "output_type": "display_data"
    }
   ],
   "source": [
    "fig = plt.figure()\n",
    "ax = fig.add_subplot( 111, projection='3d' )\n",
    "\n",
    "x_vals = x[:, 0]\n",
    "z_vals = x[:, 1]\n",
    "y_vals = x[:, 2]\n",
    "\n",
    "ax.scatter( x_vals, y_vals, z_vals, c=y )\n",
    "plt.show()"
   ]
  },
  {
   "cell_type": "code",
   "execution_count": 7,
   "metadata": {},
   "outputs": [],
   "source": [
    "def fit_plot( x, y, n_neighbors, n_components ):\n",
    "    isomap = manifold.Isomap( n_neighbors=n_neighbors, n_components=n_components )\n",
    "    y_isomap = isomap.fit_transform( x )\n",
    "    \n",
    "    lle = manifold.LocallyLinearEmbedding( n_neighbors=n_neighbors, n_components=n_components )\n",
    "    y_lle = lle.fit_transform( x )\n",
    "    \n",
    "    laplace = manifold.SpectralEmbedding( n_neighbors=n_neighbors, n_components=n_components )\n",
    "    y_laplace = laplace.fit_transform( x )\n",
    "    \n",
    "    fig, (ax1, ax2 ) = plt.subplots( 1, 2 )\n",
    "    \n",
    "    x1_vals = y_isomap[:, 0]\n",
    "    y1_vals = y_isomap[:, 1]\n",
    "    ax1.scatter( x1_vals, y1_vals, c=y )\n",
    "    \n",
    "    x2_vals = y_lle[:, 0]\n",
    "    y2_vals = y_lle[:, 1] \n",
    "    ax2.scatter( x2_vals, y2_vals, c=y )\n",
    "    \n",
    "#     x3_vals = y_laplace[:, 0]\n",
    "#     y3_vals = y_laplace[:, 1]\n",
    "#     ax3.scatter( x3_vals, y3_vals, c=y )\n",
    "    \n",
    "    plt.plot()\n",
    "    return (y_isomap, y_lle)\n",
    "    \n",
    "def residual_variance( dx, dy ):\n",
    "    corr = stats.spearmanr( dx, dy, axis=1 ).correlation\n",
    "    return corr"
   ]
  },
  {
   "cell_type": "code",
   "execution_count": 8,
   "metadata": {},
   "outputs": [
    {
     "data": {
      "application/vnd.jupyter.widget-view+json": {
       "model_id": "5a9de1b60aac4663b6d08848522b29e6",
       "version_major": 2,
       "version_minor": 0
      },
      "text/plain": [
       "Canvas(toolbar=Toolbar(toolitems=[('Home', 'Reset original view', 'home', 'home'), ('Back', 'Back to previous …"
      ]
     },
     "metadata": {},
     "output_type": "display_data"
    }
   ],
   "source": [
    "y_isomap, y_lle = fit_plot( x, y, n_neighbors=10, n_components=2 )"
   ]
  },
  {
   "cell_type": "raw",
   "metadata": {},
   "source": [
    "# AVALIACAO\n",
    "# matriz de distancias original\n",
    "dx = squareform( pdist( x ) )\n",
    "# distancias da reducao\n",
    "dy_isomap = squareform( pdist ( y_isomap ) )\n",
    "dy_lle = squareform( pdist ( y_lle ) )\n",
    "\n",
    "residual_variance( dx, dy_isomap )"
   ]
  },
  {
   "cell_type": "code",
   "execution_count": null,
   "metadata": {},
   "outputs": [],
   "source": []
  }
 ],
 "metadata": {
  "kernelspec": {
   "display_name": "Python 3",
   "language": "python",
   "name": "python3"
  },
  "language_info": {
   "codemirror_mode": {
    "name": "ipython",
    "version": 3
   },
   "file_extension": ".py",
   "mimetype": "text/x-python",
   "name": "python",
   "nbconvert_exporter": "python",
   "pygments_lexer": "ipython3",
   "version": "3.7.4"
  }
 },
 "nbformat": 4,
 "nbformat_minor": 4
}
