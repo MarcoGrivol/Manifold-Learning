{
 "cells": [
  {
   "cell_type": "code",
   "execution_count": 1,
   "metadata": {},
   "outputs": [],
   "source": [
    "%matplotlib widget\n",
    "from sklearn import datasets, manifold, mixture, metrics\n",
    "import matplotlib.pyplot as plt\n",
    "import matplotlib as mpl\n",
    "from mpl_toolkits.mplot3d import Axes3D\n",
    "import numpy as np\n",
    "from scipy.spatial.distance import pdist, squareform\n",
    "from scipy import stats, linalg\n",
    "import itertools\n",
    "from math import ceil"
   ]
  },
  {
   "cell_type": "code",
   "execution_count": 2,
   "metadata": {},
   "outputs": [],
   "source": [
    "n_samples = 500\n",
    "x, y = datasets.make_s_curve( n_samples=n_samples )\n",
    "\n",
    "idx = y.argsort()\n",
    "y.sort()\n",
    "x = x[idx]\n",
    "\n",
    "y = []\n",
    "for i in range( n_samples ):\n",
    "    if i < n_samples / 2:\n",
    "        y.append( 'purple' )\n",
    "    else:\n",
    "        y.append( 'blue' )"
   ]
  },
  {
   "cell_type": "code",
   "execution_count": 3,
   "metadata": {},
   "outputs": [],
   "source": [
    "# para adicionar 'buracos' na curva S\n",
    "x = np.concatenate( (x[:300], x[300:]) )\n",
    "y = np.concatenate( (y[:300], y[300:]) )"
   ]
  },
  {
   "cell_type": "code",
   "execution_count": 4,
   "metadata": {},
   "outputs": [
    {
     "data": {
      "application/vnd.jupyter.widget-view+json": {
       "model_id": "3e91f4018f9446768b1cd3bd9682fcbc",
       "version_major": 2,
       "version_minor": 0
      },
      "text/plain": [
       "Canvas(toolbar=Toolbar(toolitems=[('Home', 'Reset original view', 'home', 'home'), ('Back', 'Back to previous …"
      ]
     },
     "metadata": {},
     "output_type": "display_data"
    }
   ],
   "source": [
    "fig1 = plt.figure()\n",
    "ax = fig1.add_subplot( 111, projection='3d' )\n",
    "\n",
    "x_vals = x[:, 0]\n",
    "z_vals = x[:, 1]\n",
    "y_vals = x[:, 2]\n",
    "\n",
    "ax.scatter( x_vals, y_vals, z_vals, c=y )\n",
    "plt.show()"
   ]
  },
  {
   "cell_type": "code",
   "execution_count": 5,
   "metadata": {},
   "outputs": [],
   "source": [
    "def fit_plot( x, y, n_neighbors, n_components ):\n",
    "    isomap = manifold.Isomap( n_neighbors=n_neighbors, n_components=n_components )\n",
    "    y_isomap = isomap.fit_transform( x )\n",
    "    \n",
    "    lle = manifold.LocallyLinearEmbedding( n_neighbors=n_neighbors, n_components=n_components )\n",
    "    y_lle = lle.fit_transform( x )\n",
    "    \n",
    "    laplace = manifold.SpectralEmbedding( n_neighbors=n_neighbors, n_components=n_components )\n",
    "    y_laplace = laplace.fit_transform( x )\n",
    "    \n",
    "    ltsa = manifold.LocallyLinearEmbedding( n_neighbors=n_neighbors, n_components=n_components, method='ltsa' )\n",
    "    y_ltsa = ltsa.fit_transform( x )\n",
    "    \n",
    "    fig = plt.figure()\n",
    "    gs = fig.add_gridspec( 2, 2 )\n",
    "    ax1 = fig.add_subplot( gs[0, 0] )\n",
    "    ax2 = fig.add_subplot( gs[0, 1] )\n",
    "    ax3 = fig.add_subplot( gs[1, 0] )\n",
    "    ax4 = fig.add_subplot( gs[1, 1] )\n",
    "    \n",
    "    ax1.set_title( 'isomap' )\n",
    "    ax2.set_title( 'lle' )\n",
    "    ax3.set_title( 'laplace' )\n",
    "    ax4.set_title( 'ltsa' )\n",
    "    \n",
    "    x1_vals = y_isomap[:, 0]\n",
    "    y1_vals = y_isomap[:, 1]\n",
    "    ax1.scatter( x1_vals, y1_vals, c=y )\n",
    "    ax1.set_xticklabels( [] )\n",
    "    ax1.set_yticklabels( [] )\n",
    "    \n",
    "    x2_vals = y_lle[:, 0]\n",
    "    y2_vals = y_lle[:, 1] \n",
    "    ax2.scatter( x2_vals, y2_vals, c=y )\n",
    "    ax2.set_xticklabels( [] )\n",
    "    ax2.set_yticklabels( [] )\n",
    "    \n",
    "    x3_vals = y_laplace[:, 0]\n",
    "    y3_vals = y_laplace[:, 1]\n",
    "    ax3.scatter( x3_vals, y3_vals, c=y )\n",
    "    ax3.set_xticklabels( [] )\n",
    "    ax3.set_yticklabels( [] )\n",
    "    \n",
    "    x4_vals = y_ltsa[:, 0]\n",
    "    y4_vals = y_ltsa[:, 1]\n",
    "    ax4.scatter( x4_vals, y4_vals, c=y )\n",
    "    ax4.set_xticklabels( [] )\n",
    "    ax4.set_yticklabels( [] )\n",
    "    \n",
    "    plt.show()\n",
    "\n",
    "    return (y_isomap, y_lle, y_laplace, y_ltsa)\n",
    "    \n",
    "def residual_variance( dx, dy ):\n",
    "    corr = stats.spearmanr( dx, dy, axis=1 ).correlation\n",
    "    return corr"
   ]
  },
  {
   "cell_type": "code",
   "execution_count": 6,
   "metadata": {},
   "outputs": [
    {
     "data": {
      "application/vnd.jupyter.widget-view+json": {
       "model_id": "90aad4d6c19c4d2c8256b8fa777eb2f0",
       "version_major": 2,
       "version_minor": 0
      },
      "text/plain": [
       "Canvas(toolbar=Toolbar(toolitems=[('Home', 'Reset original view', 'home', 'home'), ('Back', 'Back to previous …"
      ]
     },
     "metadata": {},
     "output_type": "display_data"
    }
   ],
   "source": [
    "y_isomap, y_lle, y_laplace, y_ltsa = fit_plot( x, y, n_neighbors=8, n_components=2 )"
   ]
  },
  {
   "cell_type": "code",
   "execution_count": 7,
   "metadata": {},
   "outputs": [],
   "source": [
    "color_iter = itertools.cycle(['purple', 'blue'])\n",
    "\n",
    "def plot_results(X, Y_, means, covariances, index, title):\n",
    "    fig = plt.figure()\n",
    "    splot = fig.add_subplot()\n",
    "    for i, (mean, covar, color) in enumerate(zip(\n",
    "            means, covariances, color_iter)):\n",
    "        v, w = linalg.eigh(covar)\n",
    "        v = 2. * np.sqrt(2.) * np.sqrt(v)\n",
    "        u = w[0] / linalg.norm(w[0])\n",
    "        # as the DP will not use every component it has access to\n",
    "        # unless it needs it, we shouldn't plot the redundant\n",
    "        # components.\n",
    "        if not np.any(Y_ == i):\n",
    "            continue\n",
    "        plt.scatter(X[Y_ == i, 0], X[Y_ == i, 1], .8, color=color)\n",
    "\n",
    "        # Plot an ellipse to show the Gaussian component\n",
    "        angle = np.arctan(u[1] / u[0])\n",
    "        angle = 180. * angle / np.pi  # convert to degrees\n",
    "        ell = mpl.patches.Ellipse(mean, v[0], v[1], 180. + angle, color=color)\n",
    "        ell.set_clip_box(splot.bbox)\n",
    "        ell.set_alpha(0.5)\n",
    "        splot.add_artist(ell)\n",
    "    plt.xticks(())\n",
    "    plt.yticks(())\n",
    "    plt.title(title)\n",
    "    plt.show()"
   ]
  },
  {
   "cell_type": "code",
   "execution_count": 8,
   "metadata": {},
   "outputs": [
    {
     "data": {
      "application/vnd.jupyter.widget-view+json": {
       "model_id": "d8b2e6b1ffd74c1b80d841214dc4159c",
       "version_major": 2,
       "version_minor": 0
      },
      "text/plain": [
       "Canvas(toolbar=Toolbar(toolitems=[('Home', 'Reset original view', 'home', 'home'), ('Back', 'Back to previous …"
      ]
     },
     "metadata": {},
     "output_type": "display_data"
    }
   ],
   "source": [
    "gmm = []\n",
    "for i in range(4):\n",
    "    gmm.append( mixture.GaussianMixture( n_components=2, covariance_type='full' ) )\n",
    "    \n",
    "gmm_isomap = gmm[0].fit( y_isomap )\n",
    "plot_results( y_isomap, gmm_isomap.predict( y_isomap ), gmm_isomap.means_, gmm_isomap.covariances_, 0, 'Isomap' )\n",
    "# gmm[0].fit( y_isomap )\n",
    "# plot_results( y_isomap, gmm[0].predict( y_isomap ), gmm[0].means_, gmm[0].covariances_, 0, 'Isomap' )"
   ]
  },
  {
   "cell_type": "code",
   "execution_count": 9,
   "metadata": {},
   "outputs": [
    {
     "data": {
      "application/vnd.jupyter.widget-view+json": {
       "model_id": "1c16c3cbb78a43c194ad5f9f0c4e3b2f",
       "version_major": 2,
       "version_minor": 0
      },
      "text/plain": [
       "Canvas(toolbar=Toolbar(toolitems=[('Home', 'Reset original view', 'home', 'home'), ('Back', 'Back to previous …"
      ]
     },
     "metadata": {},
     "output_type": "display_data"
    }
   ],
   "source": [
    "gmm[1].fit( y_lle )\n",
    "plot_results( y_lle, gmm[1].predict( y_lle ), gmm[1].means_, gmm[1].covariances_, 0, 'LLE' )"
   ]
  },
  {
   "cell_type": "code",
   "execution_count": 10,
   "metadata": {},
   "outputs": [
    {
     "data": {
      "application/vnd.jupyter.widget-view+json": {
       "model_id": "5a37f802e6064cc3917bbd1e77f5e9e6",
       "version_major": 2,
       "version_minor": 0
      },
      "text/plain": [
       "Canvas(toolbar=Toolbar(toolitems=[('Home', 'Reset original view', 'home', 'home'), ('Back', 'Back to previous …"
      ]
     },
     "metadata": {},
     "output_type": "display_data"
    }
   ],
   "source": [
    "gmm[2].fit( y_laplace )\n",
    "plot_results( y_laplace, gmm[2].predict( y_laplace ), gmm[2].means_, gmm[2].covariances_, 0, 'Laplace' )"
   ]
  },
  {
   "cell_type": "code",
   "execution_count": 11,
   "metadata": {},
   "outputs": [
    {
     "data": {
      "application/vnd.jupyter.widget-view+json": {
       "model_id": "b6bc34e6bd4144b2b26c5f4bb7c8e5dc",
       "version_major": 2,
       "version_minor": 0
      },
      "text/plain": [
       "Canvas(toolbar=Toolbar(toolitems=[('Home', 'Reset original view', 'home', 'home'), ('Back', 'Back to previous …"
      ]
     },
     "metadata": {},
     "output_type": "display_data"
    }
   ],
   "source": [
    "gmm_ltsa = gmm[0].fit( y_ltsa )\n",
    "plot_results( y_ltsa, gmm_ltsa.predict( y_ltsa ), gmm_ltsa.means_, gmm_ltsa.covariances_, 0, 'Isomap' )\n",
    "# gmm[3].fit( y_ltsa )\n",
    "# plot_results( y_ltsa, gmm[3].predict( y_ltsa ), gmm[3].means_, gmm[3].covariances_, 0, 'LTSA' )"
   ]
  },
  {
   "cell_type": "code",
   "execution_count": 12,
   "metadata": {},
   "outputs": [],
   "source": [
    "true_labels = []\n",
    "for c in y:\n",
    "    if c == 'purple':\n",
    "        true_labels.append( 0 )\n",
    "    else:\n",
    "        true_labels.append( 1 )\n",
    "true_labels.reverse()"
   ]
  },
  {
   "cell_type": "code",
   "execution_count": 13,
   "metadata": {},
   "outputs": [
    {
     "data": {
      "text/plain": [
       "6.824527917766115e-05"
      ]
     },
     "execution_count": 13,
     "metadata": {},
     "output_type": "execute_result"
    }
   ],
   "source": [
    "# metrics.adjusted_rand_score( true_labels, gmm[0].predict( y_isomap ) )\n",
    "metrics.adjusted_rand_score( true_labels, gmm_isomap.predict( y_isomap ) )"
   ]
  },
  {
   "cell_type": "code",
   "execution_count": 14,
   "metadata": {},
   "outputs": [
    {
     "data": {
      "text/plain": [
       "0.4085683725681028"
      ]
     },
     "execution_count": 14,
     "metadata": {},
     "output_type": "execute_result"
    }
   ],
   "source": [
    "metrics.adjusted_rand_score( true_labels, gmm[1].predict( y_lle ) )"
   ]
  },
  {
   "cell_type": "code",
   "execution_count": 15,
   "metadata": {},
   "outputs": [
    {
     "data": {
      "text/plain": [
       "0.8534840768593817"
      ]
     },
     "execution_count": 15,
     "metadata": {},
     "output_type": "execute_result"
    }
   ],
   "source": [
    "metrics.adjusted_rand_score( true_labels, gmm[2].predict( y_laplace ) )"
   ]
  },
  {
   "cell_type": "code",
   "execution_count": 16,
   "metadata": {},
   "outputs": [
    {
     "data": {
      "text/plain": [
       "-0.0014245693424709187"
      ]
     },
     "execution_count": 16,
     "metadata": {},
     "output_type": "execute_result"
    }
   ],
   "source": [
    "# metrics.adjusted_rand_score( true_labels, gmm[3].predict( y_ltsa ) )\n",
    "metrics.adjusted_rand_score( true_labels, gmm_ltsa.predict( y_ltsa ) )"
   ]
  },
  {
   "cell_type": "code",
   "execution_count": 17,
   "metadata": {},
   "outputs": [],
   "source": [
    "def plot_isomap( y, color, p ):\n",
    "    fig = plt.figure()\n",
    "    print(len(y))\n",
    "    gs = fig.add_gridspec(1 + len(y) // p, 3)\n",
    "    axs = []\n",
    "    for i in range(len(y)):\n",
    "        gs_row = i // p\n",
    "        gs_col = i % 3\n",
    "        axs.append(fig.add_subplot(gs[gs_row, gs_col]))\n",
    "        x_vals = y[i][:, 0]\n",
    "        y_vals = y[i][:, 1]\n",
    "        axs[i].scatter(x_vals, y_vals, c=color)\n",
    "        axs[i].set_xticklabels( [] )\n",
    "        axs[i].set_yticklabels( [] )"
   ]
  },
  {
   "cell_type": "code",
   "execution_count": 18,
   "metadata": {},
   "outputs": [
    {
     "data": {
      "application/vnd.jupyter.widget-view+json": {
       "model_id": "46f75e5737dd4a4088191c746975443d",
       "version_major": 2,
       "version_minor": 0
      },
      "text/plain": [
       "Canvas(toolbar=Toolbar(toolitems=[('Home', 'Reset original view', 'home', 'home'), ('Back', 'Back to previous …"
      ]
     },
     "metadata": {},
     "output_type": "display_data"
    },
    {
     "name": "stdout",
     "output_type": "stream",
     "text": [
      "19\n"
     ]
    },
    {
     "name": "stderr",
     "output_type": "stream",
     "text": [
      "<ipython-input-17-77b507b4c544>:9: MatplotlibDeprecationWarning: Adding an axes using the same arguments as a previous axes currently reuses the earlier instance.  In a future version, a new instance will always be created and returned.  Meanwhile, this warning can be suppressed, and the future behavior ensured, by passing a unique label to each axes instance.\n",
      "  axs.append(fig.add_subplot(gs[gs_row, gs_col]))\n"
     ]
    }
   ],
   "source": [
    "p = 5\n",
    "y_isomap = []\n",
    "neighbors_range = [i for i in range(3, 100) if i % p == 0] \n",
    "for i in neighbors_range:\n",
    "    isomap = manifold.Isomap( n_neighbors=i, n_components=2 )\n",
    "    y_isomap.append( isomap.fit_transform( x ) )\n",
    "plot_isomap( y_isomap, y, p )"
   ]
  },
  {
   "cell_type": "code",
   "execution_count": 19,
   "metadata": {},
   "outputs": [
    {
     "name": "stdout",
     "output_type": "stream",
     "text": [
      "0 0.8314087581738488\n",
      "1 0.8096222967410293\n",
      "2 0.8314087581738488\n",
      "3 0.8314087581738488\n",
      "4 0.8314087581738488\n",
      "5 0.8314087581738488\n",
      "6 0.8314087581738488\n",
      "7 0.8314087581738488\n",
      "8 0.7952584821386834\n",
      "9 0.7881247264325937\n",
      "10 0.7952584821386834\n",
      "11 0.7810230734006512\n",
      "12 0.7810230734006512\n",
      "13 0.7739535242354438\n",
      "14 0.7529375116803142\n",
      "15 0.7669160801171729\n",
      "16 0.7881247264325937\n",
      "17 0.7881247264325937\n",
      "18 0.7952584821386834\n"
     ]
    },
    {
     "data": {
      "application/vnd.jupyter.widget-view+json": {
       "model_id": "b664b8696a12408c8c05196c83bc3ac2",
       "version_major": 2,
       "version_minor": 0
      },
      "text/plain": [
       "Canvas(toolbar=Toolbar(toolitems=[('Home', 'Reset original view', 'home', 'home'), ('Back', 'Back to previous …"
      ]
     },
     "metadata": {},
     "output_type": "display_data"
    }
   ],
   "source": [
    "ari = []\n",
    "for i in range(len(y_isomap)):\n",
    "    gmm[0].fit( y_isomap[i] )\n",
    "    ari.append(metrics.adjusted_rand_score(true_labels, gmm[0].predict(y_isomap[i])))\n",
    "    print(i, ari[i])\n",
    "    \n",
    "fig = plt.figure()\n",
    "ax = fig.add_subplot()\n",
    "x_vals = neighbors_range\n",
    "ax.scatter(x_vals, ari)\n",
    "plt.show()"
   ]
  },
  {
   "cell_type": "code",
   "execution_count": 20,
   "metadata": {},
   "outputs": [
    {
     "data": {
      "application/vnd.jupyter.widget-view+json": {
       "model_id": "a9a93f79219c4671bf510cc0239dab26",
       "version_major": 2,
       "version_minor": 0
      },
      "text/plain": [
       "Canvas(toolbar=Toolbar(toolitems=[('Home', 'Reset original view', 'home', 'home'), ('Back', 'Back to previous …"
      ]
     },
     "metadata": {},
     "output_type": "display_data"
    },
    {
     "name": "stdout",
     "output_type": "stream",
     "text": [
      "19\n"
     ]
    },
    {
     "name": "stderr",
     "output_type": "stream",
     "text": [
      "<ipython-input-17-77b507b4c544>:9: MatplotlibDeprecationWarning: Adding an axes using the same arguments as a previous axes currently reuses the earlier instance.  In a future version, a new instance will always be created and returned.  Meanwhile, this warning can be suppressed, and the future behavior ensured, by passing a unique label to each axes instance.\n",
      "  axs.append(fig.add_subplot(gs[gs_row, gs_col]))\n"
     ]
    }
   ],
   "source": [
    "p = 5\n",
    "y_ltsa = []\n",
    "neighbors_range = [i for i in range(3, 100) if i % p == 0] \n",
    "for i in neighbors_range:\n",
    "    ltsa = manifold.LocallyLinearEmbedding( n_neighbors=i, n_components=2, method='ltsa' )\n",
    "    y_ltsa.append( ltsa.fit_transform( x ) )\n",
    "plot_isomap( y_ltsa, y, p )"
   ]
  },
  {
   "cell_type": "code",
   "execution_count": 21,
   "metadata": {},
   "outputs": [
    {
     "name": "stdout",
     "output_type": "stream",
     "text": [
      "0 0.35892082864942987\n",
      "1 0.8241145074192956\n",
      "2 0.8241145074192956\n",
      "3 0.8241145074192956\n",
      "4 0.8241145074192956\n",
      "5 -0.0020080321285140426\n",
      "6 -0.0019334738491397045\n",
      "7 -0.0019310273924190602\n",
      "8 0.936897671921253\n",
      "9 -6.4256778311011e-05\n",
      "10 0.8909180844997732\n",
      "11 0.8985011454877563\n",
      "12 0.002639384290169523\n",
      "13 0.8909180844997732\n",
      "14 0.001138886297200747\n",
      "15 0.8534840768593817\n",
      "16 0.0003068896337231588\n",
      "17 0.0003068896337231588\n",
      "18 -0.000978759907598711\n"
     ]
    },
    {
     "data": {
      "application/vnd.jupyter.widget-view+json": {
       "model_id": "f22f64fbac9c4457973a9decf36016da",
       "version_major": 2,
       "version_minor": 0
      },
      "text/plain": [
       "Canvas(toolbar=Toolbar(toolitems=[('Home', 'Reset original view', 'home', 'home'), ('Back', 'Back to previous …"
      ]
     },
     "metadata": {},
     "output_type": "display_data"
    }
   ],
   "source": [
    "ari = []\n",
    "for i in range(len(y_ltsa)):\n",
    "    gmm[3].fit( y_ltsa[i] )\n",
    "    ari.append(metrics.adjusted_rand_score(true_labels, gmm[3].predict(y_ltsa[i])))\n",
    "    print(i, ari[i])\n",
    "    \n",
    "fig = plt.figure()\n",
    "ax = fig.add_subplot()\n",
    "x_vals = neighbors_range\n",
    "ax.scatter(x_vals, ari)\n",
    "plt.show()"
   ]
  }
 ],
 "metadata": {
  "kernelspec": {
   "display_name": "Python 3",
   "language": "python",
   "name": "python3"
  },
  "language_info": {
   "codemirror_mode": {
    "name": "ipython",
    "version": 3
   },
   "file_extension": ".py",
   "mimetype": "text/x-python",
   "name": "python",
   "nbconvert_exporter": "python",
   "pygments_lexer": "ipython3",
   "version": "3.8.5"
  }
 },
 "nbformat": 4,
 "nbformat_minor": 4
}
