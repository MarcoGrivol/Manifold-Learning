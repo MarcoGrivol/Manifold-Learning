{
 "cells": [
  {
   "cell_type": "code",
   "execution_count": null,
   "id": "c0ddb99e-0077-4f59-8989-11dcf768aa23",
   "metadata": {},
   "outputs": [],
   "source": [
    "from manifold_helper import ManifoldHelper\n",
    "import numpy as np\n",
    "import matplotlib.pyplot as plt\n",
    "import matplotlib.colors as mcolors\n",
    "import pandas as pd"
   ]
  },
  {
   "cell_type": "code",
   "execution_count": null,
   "id": "7643fc3a-4c0c-4cd8-aceb-7a988cffd1e8",
   "metadata": {},
   "outputs": [],
   "source": [
    "datasetOriginal = pd.read_csv(\"data\\\\mnist_train.csv\")\n",
    "df = datasetOriginal.copy()\n",
    "df"
   ]
  },
  {
   "cell_type": "code",
   "execution_count": null,
   "id": "b1d24b4d-748b-4dc5-8cfa-37fc0b2f819f",
   "metadata": {},
   "outputs": [],
   "source": [
    "# separar os rotulos dos dados\n",
    "label, x = df.iloc[:, :1], df.iloc[:, 1:]\n",
    "label = label.to_numpy().transpose()[0]\n",
    "x = x.to_numpy()\n",
    "label, x"
   ]
  },
  {
   "cell_type": "code",
   "execution_count": null,
   "id": "22081cbf-8b35-41a2-94f8-ada69797e5b6",
   "metadata": {},
   "outputs": [],
   "source": [
    "# sort de acordo com os labels\n",
    "idx = np.argsort(label)\n",
    "label = label[idx]\n",
    "x = x[idx]\n",
    "label, x"
   ]
  },
  {
   "cell_type": "code",
   "execution_count": null,
   "id": "b254168c-133b-4ac3-8b3b-b645d2019e1a",
   "metadata": {},
   "outputs": [],
   "source": [
    "unique, counts = np.unique(label, return_counts=True)\n",
    "num_data = dict(zip(unique, counts))\n",
    "num_data"
   ]
  },
  {
   "cell_type": "markdown",
   "id": "a00d8242-0201-47b9-a381-e5b9e593fcb3",
   "metadata": {},
   "source": [
    "## Selecionando dados para analise"
   ]
  },
  {
   "cell_type": "code",
   "execution_count": null,
   "id": "863ecdf7-1e75-4a8a-95f2-1726fede1ba4",
   "metadata": {},
   "outputs": [],
   "source": [
    "n_class = 5\n",
    "class_percent = 0.1"
   ]
  },
  {
   "cell_type": "code",
   "execution_count": null,
   "id": "64f1a18f-0187-4997-8927-a7aebab6a12a",
   "metadata": {},
   "outputs": [],
   "source": [
    "# selecionando apenas parte dos dados\n",
    "x_cut = np.empty((0, 784))\n",
    "label_cut = np.empty((1, 0), dtype=np.uint8)\n",
    "for i in range(n_class):\n",
    "    if i > 0:\n",
    "        start = sum([num_data[j] for j in range(i)])\n",
    "        end = int(num_data[i] * class_percent) + start\n",
    "    else:\n",
    "        start = 0\n",
    "        end = int(num_data[i] * class_percent)\n",
    "    label_cut = np.append(label_cut, label[start : end])\n",
    "    x_cut = np.vstack((x_cut, x[start : end, :]))\n",
    "    \n",
    "unique, counts = np.unique(label_cut, return_counts=True)\n",
    "num_data_cut = dict(zip(unique, counts))\n",
    "num_data_cut"
   ]
  },
  {
   "cell_type": "code",
   "execution_count": null,
   "id": "09bf7f42-b306-4c89-8381-311ea29cffc3",
   "metadata": {},
   "outputs": [],
   "source": [
    "import random\n",
    "c = list(zip(x_cut, label_cut))\n",
    "random.seed(42)\n",
    "random.shuffle(c)\n",
    "x_cut, label_cut = zip(*c)"
   ]
  },
  {
   "cell_type": "code",
   "execution_count": null,
   "id": "450b0399-2d57-4904-99b7-693c8bbf7fca",
   "metadata": {},
   "outputs": [],
   "source": [
    "label_colors = [list( mcolors.TABLEAU_COLORS )[i] \n",
    "                  for i in range( 10 )]\n",
    "colors = [label_colors[v] for v in label_cut]"
   ]
  },
  {
   "cell_type": "markdown",
   "id": "58151d2f-fd59-40ee-a232-0b199fdbd671",
   "metadata": {},
   "source": [
    "# Analise"
   ]
  },
  {
   "cell_type": "code",
   "execution_count": null,
   "id": "f3aad7c7-b9b0-44b5-9c62-50824daffe9a",
   "metadata": {},
   "outputs": [],
   "source": [
    "manifold = ManifoldHelper([5, 10, 15])"
   ]
  },
  {
   "cell_type": "code",
   "execution_count": null,
   "id": "1b258ef9-ade4-48f1-a742-e0a09be1b0da",
   "metadata": {},
   "outputs": [],
   "source": [
    "xt = manifold.fit_transform(x_cut, 'ISOMAP', 10, 2)"
   ]
  },
  {
   "cell_type": "code",
   "execution_count": null,
   "id": "f63b9c03-97a3-4401-90dc-e69af68ac945",
   "metadata": {},
   "outputs": [],
   "source": [
    "plt.figure()\n",
    "plt.scatter(xt[:, 0], xt[:, 1], c=colors, s=4)\n",
    "plt.show()"
   ]
  },
  {
   "cell_type": "code",
   "execution_count": null,
   "id": "b67e0b7f-f40e-4879-bfd2-536ddc24b730",
   "metadata": {},
   "outputs": [],
   "source": [
    "ari_results = manifold.run_eval_all(x_cut, label_cut, n_components=n_class)"
   ]
  },
  {
   "cell_type": "code",
   "execution_count": null,
   "id": "ab60b602-d072-45e2-9b92-89a863c2d74f",
   "metadata": {},
   "outputs": [],
   "source": [
    "ari_results"
   ]
  },
  {
   "cell_type": "code",
   "execution_count": null,
   "id": "54f67973-8509-42ac-814b-ccf20c082fd6",
   "metadata": {},
   "outputs": [],
   "source": []
  }
 ],
 "metadata": {
  "kernelspec": {
   "display_name": "Python 3",
   "language": "python",
   "name": "python3"
  },
  "language_info": {
   "codemirror_mode": {
    "name": "ipython",
    "version": 3
   },
   "file_extension": ".py",
   "mimetype": "text/x-python",
   "name": "python",
   "nbconvert_exporter": "python",
   "pygments_lexer": "ipython3",
   "version": "3.8.8"
  }
 },
 "nbformat": 4,
 "nbformat_minor": 5
}
