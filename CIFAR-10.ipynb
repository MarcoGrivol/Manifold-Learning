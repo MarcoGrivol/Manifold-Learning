{
 "cells": [
  {
   "cell_type": "code",
   "execution_count": 1,
   "id": "5a8015a2-b109-4252-a085-4305d311a085",
   "metadata": {},
   "outputs": [],
   "source": [
    "import matplotlib.pyplot as plt\n",
    "import matplotlib.colors as mcolors\n",
    "import numpy as np\n",
    "import pandas as pd\n",
    "from collections import OrderedDict\n",
    "from manifold_helper import unpickle, ManifoldHelper\n",
    "from sklearn.utils import shuffle\n",
    "\n",
    "rng = np.random.default_rng(42)"
   ]
  },
  {
   "cell_type": "code",
   "execution_count": 2,
   "id": "2808ee4d-f144-4beb-b331-070e289ac30a",
   "metadata": {},
   "outputs": [],
   "source": [
    "size = 0.2"
   ]
  },
  {
   "cell_type": "code",
   "execution_count": 3,
   "id": "dee6e618-8323-4542-992e-b729c5c097bd",
   "metadata": {},
   "outputs": [
    {
     "data": {
      "text/plain": [
       "dict_keys([b'batch_label', b'labels', b'data', b'filenames'])"
      ]
     },
     "execution_count": 3,
     "metadata": {},
     "output_type": "execute_result"
    }
   ],
   "source": [
    "dataset = unpickle('data/cifar-10/data_batch_1')\n",
    "dataset.keys()"
   ]
  },
  {
   "cell_type": "code",
   "execution_count": 4,
   "id": "ff0e0893-e436-436a-b98f-4f30dabb65e1",
   "metadata": {},
   "outputs": [],
   "source": [
    "data, labels = (dataset[b'data'], dataset[b'labels'])"
   ]
  },
  {
   "cell_type": "code",
   "execution_count": 5,
   "id": "62bcb261-b6f8-40f3-9ceb-75cb61c5c746",
   "metadata": {},
   "outputs": [
    {
     "data": {
      "text/plain": [
       "<matplotlib.image.AxesImage at 0x27fdf7ef340>"
      ]
     },
     "execution_count": 5,
     "metadata": {},
     "output_type": "execute_result"
    },
    {
     "data": {
      "image/png": "[encoded data removed]",
      "text/plain": [
       "<Figure size 432x288 with 1 Axes>"
      ]
     },
     "metadata": {
      "needs_background": "light"
     },
     "output_type": "display_data"
    }
   ],
   "source": [
    "X = data[:, :1024] # rgb -> 1 channel\n",
    "plt.imshow(X[0, :].reshape((32, 32)), 'gray')"
   ]
  },
  {
   "cell_type": "code",
   "execution_count": 6,
   "id": "c768234b-ede2-4a96-9422-ac7a48aada6f",
   "metadata": {},
   "outputs": [
    {
     "data": {
      "text/plain": [
       "(2000, 1024)"
      ]
     },
     "execution_count": 6,
     "metadata": {},
     "output_type": "execute_result"
    }
   ],
   "source": [
    "sample_size = int(size * len(X))\n",
    "x_cut = X[:sample_size, :]\n",
    "label_cut = labels[:sample_size]\n",
    "x_cut.shape"
   ]
  },
  {
   "cell_type": "code",
   "execution_count": 7,
   "id": "c8359ca3-a160-4a77-b6c9-4a3ead67e2dc",
   "metadata": {},
   "outputs": [],
   "source": [
    "x_cut, label_cut = shuffle(x_cut, label_cut, random_state=42)"
   ]
  },
  {
   "cell_type": "code",
   "execution_count": 8,
   "id": "8b89ec76-d34d-4fbc-ba01-351a331fe7f6",
   "metadata": {},
   "outputs": [
    {
     "data": {
      "text/plain": [
       "{0: 202,\n",
       " 1: 191,\n",
       " 2: 203,\n",
       " 3: 195,\n",
       " 4: 214,\n",
       " 5: 183,\n",
       " 6: 207,\n",
       " 7: 199,\n",
       " 8: 203,\n",
       " 9: 203}"
      ]
     },
     "execution_count": 8,
     "metadata": {},
     "output_type": "execute_result"
    }
   ],
   "source": [
    "unique, counts = np.unique(label_cut, return_counts=True)\n",
    "num_data = dict(zip(unique, counts))\n",
    "num_data"
   ]
  },
  {
   "cell_type": "code",
   "execution_count": 9,
   "id": "713c3223-f8a2-42e0-98e9-0af2d2565307",
   "metadata": {},
   "outputs": [],
   "source": [
    "label_colors = [list( mcolors.TABLEAU_COLORS )[i] for i in range( 10 )]\n",
    "colors = [label_colors[i] for i in label_cut]"
   ]
  },
  {
   "cell_type": "code",
   "execution_count": 10,
   "id": "34b1b113-dffc-4d7c-8954-fb786297092e",
   "metadata": {},
   "outputs": [],
   "source": [
    "methods = ['ISOMAP', 'LLE', 'SE', 'LTSA']\n",
    "neighbors=[5, 10, 45]\n",
    "dimensions=[2, 10, 30]\n",
    "manifold = ManifoldHelper([5, 10, 45], [2, 10, 30], methods)"
   ]
  },
  {
   "cell_type": "code",
   "execution_count": 12,
   "id": "3ae3ec84-e746-4752-b0f9-71e3237010cc",
   "metadata": {},
   "outputs": [
    {
     "name": "stdout",
     "output_type": "stream",
     "text": [
      "2_dimension:\n",
      "\n",
      "   5_neighbors: 0.02  0.02  0.01  0.00 \n",
      "   10_neighbors: 0.02  0.01  0.01  0.00 \n",
      "   45_neighbors: 0.02  0.02  0.01  0.00 10_dimension:\n",
      "\n",
      "   5_neighbors: 0.02  0.02  0.03  0.00 \n",
      "   10_neighbors: 0.03  0.02  0.02  0.01 \n",
      "   45_neighbors: 0.03  0.02  0.02  0.00 30_dimension:\n",
      "\n",
      "   5_neighbors: 0.02  0.02  0.02  0.00 \n",
      "   10_neighbors: 0.03  0.02  0.02  0.00 \n",
      "   45_neighbors: 0.02  0.02  0.02  0.00 "
     ]
    }
   ],
   "source": [
    "import warnings\n",
    "warnings.filterwarnings(\"ignore\")\n",
    "ari_results = manifold.evaluate_all(x_cut, label_cut, n_components=10)"
   ]
  },
  {
   "cell_type": "code",
   "execution_count": 13,
   "id": "2b5f13c2-6001-42cf-8a37-00ee319863f8",
   "metadata": {},
   "outputs": [
    {
     "data": {
      "image/png": "[encoded data removed]",
      "text/plain": [
       "<Figure size 1440x1440 with 4 Axes>"
      ]
     },
     "metadata": {
      "needs_background": "light"
     },
     "output_type": "display_data"
    }
   ],
   "source": [
    "fig, axs = plt.subplots(1, 4, figsize=(20, 20))\n",
    "for ax, m in zip(axs, methods):\n",
    "    ax.matshow(ari_results[m], cmap='Blues')\n",
    "    ax.set_title(m)\n",
    "    ax.set_xticks([i for i in range(len(neighbors))])\n",
    "    ax.set_yticks([i for i in range(len(dimensions))])\n",
    "    ax.set_xticklabels(neighbors)\n",
    "    ax.set_yticklabels(dimensions)\n",
    "    for (i, j), z in np.ndenumerate(ari_results[m]):\n",
    "        ax.text(j, i, '{:0.1f}'.format(z), ha='center', va='center')\n",
    "plt.show()"
   ]
  },
  {
   "cell_type": "code",
   "execution_count": null,
   "id": "fc7d4193-7a12-4d16-a422-ea7597814e89",
   "metadata": {},
   "outputs": [],
   "source": [
    "print(ari_results)"
   ]
  },
  {
   "cell_type": "code",
   "execution_count": 14,
   "id": "b22de523-c472-4f48-977a-36b2d99bd161",
   "metadata": {},
   "outputs": [
    {
     "data": {
      "text/plain": [
       "72.0"
      ]
     },
     "execution_count": 14,
     "metadata": {},
     "output_type": "execute_result"
    }
   ],
   "source": [
    "ari_results['ISOMAP'][0, 0]"
   ]
  },
  {
   "cell_type": "code",
   "execution_count": null,
   "id": "e97233bd-f5f4-4295-8daa-a91ce9811f07",
   "metadata": {},
   "outputs": [],
   "source": []
  }
 ],
 "metadata": {
  "kernelspec": {
   "display_name": "Python 3",
   "language": "python",
   "name": "python3"
  },
  "language_info": {
   "codemirror_mode": {
    "name": "ipython",
    "version": 3
   },
   "file_extension": ".py",
   "mimetype": "text/x-python",
   "name": "python",
   "nbconvert_exporter": "python",
   "pygments_lexer": "ipython3",
   "version": "3.8.8"
  }
 },
 "nbformat": 4,
 "nbformat_minor": 5
}
